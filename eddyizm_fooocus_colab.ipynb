{
 "cells": [
  {
   "cell_type": "code",
   "execution_count": null,
   "metadata": {
    "id": "VjYy0F2gZIPR"
   },
   "outputs": [],
   "source": [
    "!pip install pygit2==1.12.2\n",
    "%cd /content\n",
    "!git clone https://github.com/eddyizm/Fooocus.git\n",
    "%cd /content/Fooocus\n",
    "!git checkout personal\n"
   ]
  },
  {
   "cell_type": "markdown",
   "metadata": {},
   "source": [
    "SDXL loras"
   ]
  },
  {
   "cell_type": "code",
   "execution_count": null,
   "metadata": {},
   "outputs": [],
   "source": [
    "%%bash\n",
    "\n",
    "CIVITIA_API_KEY=<API_KEY>\n",
    "# echo $CIVITIA_API_KEY\n",
    "\n",
    "# dissolving\n",
    "wget -q --show-progress -O 'models/lora/ral-dissolve-sdxl.safetensors' \"https://civitai.com/api/download/models/277389?type=Model&format=SafeTensor&token=$CIVITIA_API_KEY\"\n",
    "# melting \n",
    "# wget -q --show-progress -O 'models/loras/ral-melting.safetensors' \"https://civitai.com/api/download/models/277422?type=Model&format=SafeTensor&token=$CIVITIA_API_KEY\"\n",
    "\n",
    "# some horror / gore loras\n",
    "# ab0m.safetensors - triggerword - ab0m realistic-abomination-xl-dont-click-body-horror\n",
    "# wget -q --show-progress -O 'models/loras/ab0m.safetensors' \"https://civitai.com/api/download/models/138296?type=Model&format=SafeTensor&token=$CIVITIA_API_KEY\"\n",
    "\n",
    "# Desolation - Desolation.safetensors - deep blacks, clear, impact\n",
    "# wget -q --show-progress -O 'models/loras/Desolation.safetensors' \"https://civitai.com/api/download/models/302830?type=Model&format=SafeTensor&token=$CIVITIA_API_KEY\"\n",
    "\n",
    "# Horror landscape \n",
    "# Edob Horror Landscape -keywords EdobHorrorLandscape\n",
    "# wget -q --show-progress -O 'models/loras/EdobHorrorLandscape_XL_v1.0.safetensors' \"https://civitai.com/api/download/models/253952?type=Model&format=SafeTensor&token=$CIVITIA_API_KEY\"\n",
    "\n",
    "# weird stuff\n",
    "# Trypophobia - EnvyTrypophobiaXL01.safetensors\n",
    "# wget -q --show-progress -O 'models/loras/EnvyTrypophobiaXL01.safetensors \"https://civitai.com/api/download/models/251533?type=Model&format=SafeTensor&token=$CIVITIA_API_KEY\"\n",
    "\n",
    "# Cordyceps - trigger words -> crdcps, fungal horn, cordyceps infected\n",
    "# wget -q --show-progress -O 'models/loras/Cordyceps_XL.safetensors' \"https://civitai.com/api/download/models/278487?type=Model&format=SafeTensor&token=$CIVITIA_API_KEY\""
   ]
  },
  {
   "cell_type": "markdown",
   "metadata": {},
   "source": [
    "SD 1.5 loras"
   ]
  },
  {
   "cell_type": "code",
   "execution_count": null,
   "metadata": {},
   "outputs": [],
   "source": [
    "# testing some sd loras\n",
    "# Ancient_Creatures_of_Monumental_Proportions.safetensors \n",
    "# !wget -O 'models/loras/Ancient_Creatures_of_Monumental_Proportions.safetensors' \"https://civitai.com/api/download/models/294450?type=Model&format=SafeTensor&token=$CIVITIA_API_KEY\"\n",
    "\n",
    "# [LoRA] [Horror] s4w3d0ff Blend - may not work?\n",
    "# wget -q --show-progress -O 'models/loras/[LoRA][Horror]s4w3d0ffBlend_v10.safetensors' \"https://civitai.com/api/download/models/9326?type=Model&format=SafeTensor&size=full&fp=fp16&token=$CIVITIA_API_KEY\"\n",
    "\n",
    "# body horror \n",
    "# !wget -O 'models/loras/disgusting.body.horror.creature.safetensors' \"https://civitai.com/api/download/models/55777?type=Model&format=SafeTensor&token=$CIVITIA_API_KEY\""
   ]
  },
  {
   "cell_type": "code",
   "execution_count": null,
   "metadata": {},
   "outputs": [],
   "source": [
    "!python entry_with_update.py --preset turbo --theme dark --share --always-high-vram --all-in-fp16"
   ]
  },
  {
   "cell_type": "markdown",
   "metadata": {},
   "source": [
    "Zip up output to download"
   ]
  },
  {
   "cell_type": "code",
   "execution_count": null,
   "metadata": {},
   "outputs": [],
   "source": [
    "!zip -r /content/output.zip /content/Fooocus/outputs/"
   ]
  },
  {
   "cell_type": "code",
   "execution_count": null,
   "metadata": {},
   "outputs": [],
   "source": [
    "# clean up images before downloading\n",
    "# !rm outputs/2024-01-09/2024-01-09_05-2*.png"
   ]
  },
  {
   "cell_type": "markdown",
   "metadata": {},
   "source": [
    "Checkpoints"
   ]
  },
  {
   "cell_type": "code",
   "execution_count": null,
   "metadata": {},
   "outputs": [],
   "source": [
    "# checkpoints \n",
    "# wget -q --show-progress -O 'models/checkpoints/realisticFantasyMix_v20Vae.safetensors' \"https://civitai.com/api/download/models/200225?type=Model&format=SafeTensor&size=full&fp=fp16&token=$CIVITIA_API_KEY\""
   ]
  }
 ],
 "metadata": {
  "accelerator": "GPU",
  "colab": {
   "gpuType": "T4",
   "provenance": []
  },
  "kernelspec": {
   "display_name": "Python 3",
   "name": "python3"
  },
  "language_info": {
   "name": "python"
  }
 },
 "nbformat": 4,
 "nbformat_minor": 0
}
